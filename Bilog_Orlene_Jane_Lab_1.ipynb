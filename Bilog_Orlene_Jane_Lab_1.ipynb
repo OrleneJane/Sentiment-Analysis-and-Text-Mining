{
  "nbformat": 4,
  "nbformat_minor": 0,
  "metadata": {
    "colab": {
      "provenance": []
    },
    "kernelspec": {
      "name": "python3",
      "display_name": "Python 3"
    },
    "language_info": {
      "name": "python"
    }
  },
  "cells": [
    {
      "cell_type": "markdown",
      "source": [
        "# Section 1: Numerical Data Types & Arithmetic Operators ( The Road Trip Planner)"
      ],
      "metadata": {
        "id": "Y68eeDinWCLr"
      }
    },
    {
      "cell_type": "code",
      "source": [
        "''' A. How many liters of fuel will you need for the entire trip?'''\n",
        "\n",
        "# Given values\n",
        "fuel_efficiency = 11.50  # km per liter\n",
        "total_distance = 475  # km\n",
        "fuel_price = 1.65  # dollars per liter\n",
        "tank_capacity = 50  # liters\n",
        "\n",
        "# Fuel needed for the trip\n",
        "fuel_needed = total_distance / fuel_efficiency\n",
        "print(\"Fuel needed (liters):\", round(fuel_needed, 2))"
      ],
      "metadata": {
        "colab": {
          "base_uri": "https://localhost:8080/"
        },
        "id": "IRUjR5Y_WGkR",
        "outputId": "9d6a3b5f-6509-4af2-8367-1aebad57fad2"
      },
      "execution_count": null,
      "outputs": [
        {
          "output_type": "stream",
          "name": "stdout",
          "text": [
            "Fuel needed (liters): 41.3\n"
          ]
        }
      ]
    },
    {
      "cell_type": "markdown",
      "source": [
        "Section 1.A\n",
        "\n",
        "To find the total liters of fuel needed, we divide the total distance (475 km) by the car's fuel efficiency (11.50 km per liter). This gives the exact amount of fuel required to cover the trip."
      ],
      "metadata": {
        "id": "zgrSqF918VJP"
      }
    },
    {
      "cell_type": "code",
      "source": [
        "''' B. How many full tanks of fuel does this represent?'''\n",
        "\n",
        "# Number of full tanks required (using floor division)\n",
        "full_tanks = int(fuel_needed // tank_capacity)\n",
        "print(\"Full tanks needed:\", full_tanks)"
      ],
      "metadata": {
        "colab": {
          "base_uri": "https://localhost:8080/"
        },
        "id": "fvKg1BTDYLMn",
        "outputId": "3464fe3d-dc90-4f71-ddae-59cd45571c05"
      },
      "execution_count": null,
      "outputs": [
        {
          "output_type": "stream",
          "name": "stdout",
          "text": [
            "Full tanks needed: 0\n"
          ]
        }
      ]
    },
    {
      "cell_type": "markdown",
      "source": [
        "Section 1.B\n",
        "\n",
        "We use floor division // to find how many full 50-liter tanks are required. Since, 41.30 liters is less than one full tank (50 liters), you need 0 additional full tanks beyond your starting full tank. Also, The // operator gives the whole number of times 50 liters fits into the fuel needed."
      ],
      "metadata": {
        "id": "XFWvegpL9BH-"
      }
    },
    {
      "cell_type": "code",
      "source": [
        "''' C. What is the total estimated fuel cost for the trip?'''\n",
        "\n",
        "# Total fuel cost\n",
        "total_cost = fuel_needed * fuel_price\n",
        "print(\"Total fuel cost ($):\", round(total_cost, 2))"
      ],
      "metadata": {
        "colab": {
          "base_uri": "https://localhost:8080/"
        },
        "id": "Gy2ikpMbYPP2",
        "outputId": "a8657316-9bf7-41c2-f4cc-a5e836c63f86"
      },
      "execution_count": null,
      "outputs": [
        {
          "output_type": "stream",
          "name": "stdout",
          "text": [
            "Total fuel cost ($): 68.15\n"
          ]
        }
      ]
    },
    {
      "cell_type": "markdown",
      "source": [
        "Section 1.C\n",
        "\n",
        "We multiply the total liters of fuel needed (41.30) by the price per liter ($1.65) to get the total cost for the trip."
      ],
      "metadata": {
        "id": "JchXyirj9awF"
      }
    },
    {
      "cell_type": "code",
      "source": [
        "''' D. How many liters of fuel will be remaining in your tank?'''\n",
        "\n",
        "# Fuel remaining after trip\n",
        "fuel_used_from_last_tank = fuel_needed % tank_capacity\n",
        "fuel_remaining = tank_capacity - fuel_used_from_last_tank\n",
        "print(\"Fuel remaining after trip (liters):\", round(fuel_remaining, 2))"
      ],
      "metadata": {
        "colab": {
          "base_uri": "https://localhost:8080/"
        },
        "id": "z_aEys-GYPzD",
        "outputId": "37d80954-ecc4-4c8d-9c2f-da1519dbb7e7"
      },
      "execution_count": null,
      "outputs": [
        {
          "output_type": "stream",
          "name": "stdout",
          "text": [
            "Fuel remaining after trip (liters): 8.7\n"
          ]
        }
      ]
    },
    {
      "cell_type": "markdown",
      "source": [
        "Section 1.D\n",
        "\n",
        "The fuel used from the last full tank is the remainder when dividing the total fuel needed by the tank capacity. Subtract this from the full tank capacity to find out how much fuel is left after the trip. This represents the leftover fuel in your tank after completing the journey, assuming you only refueled the exact amount needed."
      ],
      "metadata": {
        "id": "qeEwyP3U98rw"
      }
    },
    {
      "cell_type": "markdown",
      "source": [
        "# Section 2: Comparison & Logical Operators ( Theme Park Entry Rules )"
      ],
      "metadata": {
        "id": "pT8_4gb9WDBt"
      }
    },
    {
      "cell_type": "code",
      "source": [
        "''' A. Boolean Expression & Evaluation'''\n",
        "\n",
        "# Given variables\n",
        "age = 30\n",
        "is_weekday = True\n",
        "is_family_day = False\n",
        "group_size = 3\n",
        "\n",
        "# Discount Eligibility\n",
        "discount_eligibility = ((age <= 12) and is_weekday) or (age >= 65) or (is_family_day and group_size >= 4)\n",
        "print(\"Discount eligibility:\", discount_eligibility)"
      ],
      "metadata": {
        "colab": {
          "base_uri": "https://localhost:8080/"
        },
        "id": "HnH-z_N0WH_t",
        "outputId": "2333e57b-a782-4733-e5d9-41ab926a7e68"
      },
      "execution_count": null,
      "outputs": [
        {
          "output_type": "stream",
          "name": "stdout",
          "text": [
            "Discount eligibility: False\n"
          ]
        }
      ]
    },
    {
      "cell_type": "markdown",
      "source": [
        "Section 2.A\n",
        "\n",
        "The Boolean expression checks if a person qualifies for a discount by evaluating three conditions: whether the person is a child (age 12 or younger) on a weekday, whether they are a senior (age 65 or older), or whether it's a family day and they are in a group of 4 or more. In this case, the person is 30 years old, so they are not a child or a senior. Although it is a weekday, the child condition does not apply, and it is not a family day, and the group size is only 3, which is less than 4. Therefore, none of the conditions for a discount are met, and the final result of the expression is False, meaning the person is not eligible for a discount."
      ],
      "metadata": {
        "id": "BA-90-Oq-WvR"
      }
    },
    {
      "cell_type": "code",
      "source": [
        "''' B: New Values & Evaluation'''\n",
        "\n",
        "# New variables\n",
        "age = 10\n",
        "is_weekday = True\n",
        "is_family_day = False\n",
        "group_size = 2\n",
        "\n",
        "# Discount Eligibility\n",
        "discount_eligibility = ((age <= 12) and is_weekday) or (age >= 65) or (is_family_day and group_size >= 4)\n",
        "print(\"Discount eligibility:\", discount_eligibility)"
      ],
      "metadata": {
        "colab": {
          "base_uri": "https://localhost:8080/"
        },
        "id": "Q5mELFNuOTSX",
        "outputId": "eb7ad42d-2314-48c6-c021-9f95b43c77b5"
      },
      "execution_count": null,
      "outputs": [
        {
          "output_type": "stream",
          "name": "stdout",
          "text": [
            "Discount eligibility: True\n"
          ]
        }
      ]
    },
    {
      "cell_type": "markdown",
      "source": [
        "Section 2.B\n",
        "\n",
        "In this updated value, we checks if a 10-year-old visiting on a weekday, who is not part of a Family Day group and is in a group of 2 people, qualifies for a theme park discount. The code evaluates three conditions: whether the person is a child on a weekday (which is true), whether they are a senior (which is false), and whether it's Family Day with a group of 4 or more (which is also false). Since the first condition is true and the expression uses or, the person qualifies for the discount. Therefore, the printed result is: Discount eligibility: True."
      ],
      "metadata": {
        "id": "XAQaJW67-oa0"
      }
    },
    {
      "cell_type": "code",
      "source": [
        "# C: Explain step-by-step logic\n",
        "\n",
        "''' Step-by-Step Evaluation\n",
        "1. age = 10 → age <= 12 → True\n",
        "2. is_weekday = True → So (age <= 12 and is_weekday) → True and True → True\n",
        "3. age >= 65 → False\n",
        "4. is_family_day = False and group_size = 2 → False and False → False'''\n"
      ],
      "metadata": {
        "colab": {
          "base_uri": "https://localhost:8080/"
        },
        "id": "EVdgmSfEOWZW",
        "outputId": "780670a1-a019-4658-a66d-8ad93c6eb48b"
      },
      "execution_count": null,
      "outputs": [
        {
          "output_type": "execute_result",
          "data": {
            "text/plain": [
              "' Step-by-Step Evaluation\\n1. age = 10 → age <= 12 → True\\n2. is_weekday = True → So (age <= 12 and is_weekday) → True and True → True\\n3. age >= 65 → False\\n4. is_family_day = False and group_size = 2 → False and False → False'"
            ],
            "application/vnd.google.colaboratory.intrinsic+json": {
              "type": "string"
            }
          },
          "metadata": {},
          "execution_count": 105
        }
      ]
    },
    {
      "cell_type": "markdown",
      "source": [
        "Section 2.C\n",
        "\n",
        "The discount is given if any of the three conditions are True. Here, the first condition is True, and the other two are False. The final evaluation is True or False or False, which is True.\n",
        "So, the person qualifies for the discount."
      ],
      "metadata": {
        "id": "8XeajqjnE3hg"
      }
    },
    {
      "cell_type": "markdown",
      "source": [
        "# Section 3: String Data Types, Indexing & Slicing ( Message Decoder)"
      ],
      "metadata": {
        "id": "6E4NXukcWDYY"
      }
    },
    {
      "cell_type": "code",
      "source": [
        "''' A. What is the character at index 5 of secret_message?'''\n",
        "\n",
        "secret_message = \"PyThoN_Is_FuN_AnD_PoWeRfUl!\"\n",
        "\n",
        "# Character at index 5\n",
        "char_at_5 = secret_message[5]\n",
        "print(\"Character at index 5:\", char_at_5)"
      ],
      "metadata": {
        "colab": {
          "base_uri": "https://localhost:8080/"
        },
        "id": "amZyhXA0WIZm",
        "outputId": "eb7a77cf-1f3b-415f-dcd2-7ff6c524454e"
      },
      "execution_count": null,
      "outputs": [
        {
          "output_type": "stream",
          "name": "stdout",
          "text": [
            "Character at index 5: N\n"
          ]
        }
      ]
    },
    {
      "cell_type": "markdown",
      "source": [
        "Section 3.A\n",
        "\n",
        "In this queries, we defines a message stored in a variable called secret_message and uses indexing to get the character at position 5, which is 'N'. It stores that character in another variable named char_at_5 and then prints it. Since Python counts from 0, index 5 refers to the 6th character in the string."
      ],
      "metadata": {
        "id": "o3Mqc3Kp_sWA"
      }
    },
    {
      "cell_type": "code",
      "source": [
        "# B. Using positive indexing and slicing, extract the substring \"Is_FuN\".\n",
        "\n",
        "# Extract \"Is_FuN\" using Positive Indexing\n",
        "substring_positive = secret_message[7:13]\n",
        "print(\"Substring using positive indexing:\", substring_positive)"
      ],
      "metadata": {
        "colab": {
          "base_uri": "https://localhost:8080/"
        },
        "id": "vW3fIoPSSw7p",
        "outputId": "dddcfb02-d0c0-49c7-86f5-0d4ddcdb35bd"
      },
      "execution_count": null,
      "outputs": [
        {
          "output_type": "stream",
          "name": "stdout",
          "text": [
            "Substring using positive indexing: Is_FuN\n"
          ]
        }
      ]
    },
    {
      "cell_type": "markdown",
      "source": [
        "Section 3.B\n",
        "\n",
        "Using the slicing with [7:13] extracts characters starting from index 7 up to, but not including, index 13. This gives the substring 'Is_FuN', showing how to extract a specific part of a string using positive indices."
      ],
      "metadata": {
        "id": "tTEWO1tl_4iy"
      }
    },
    {
      "cell_type": "code",
      "source": [
        "# C. Using negative indexing and slicing, extract the substring \"PoWeRfUl\".\n",
        "\n",
        "# Extract \"PoWeRfUl\" using Negative Indexing\n",
        "substring_negative = secret_message[-9:-1]\n",
        "print(\"Substring using negative indexing:\", substring_negative)"
      ],
      "metadata": {
        "colab": {
          "base_uri": "https://localhost:8080/"
        },
        "id": "J2RZzLT7Sw4b",
        "outputId": "75441868-c664-4905-d722-52b9df628947"
      },
      "execution_count": null,
      "outputs": [
        {
          "output_type": "stream",
          "name": "stdout",
          "text": [
            "Substring using negative indexing: PoWeRfUl\n"
          ]
        }
      ]
    },
    {
      "cell_type": "markdown",
      "source": [
        "Section 3.C\n",
        "\n",
        "Negative indexing counts from the end of the string, so -9 is the ninth character from the end, and -1 is the last character (not included). This slice returns 'PoWeRfUl', illustrating how to use negative indices for slicing."
      ],
      "metadata": {
        "id": "5a43LDwm_7bB"
      }
    },
    {
      "cell_type": "code",
      "source": [
        "# D. Create a new string that consists of every 4th character of secret_message, starting from the first character (index 0)\n",
        "\n",
        "secret_message = \"PyThoN_Is_FuN_AnD_PoWeRfUl!\"\n",
        "every_fourth = secret_message[0::4]\n",
        "print(\"Every 4th character:\", every_fourth)"
      ],
      "metadata": {
        "colab": {
          "base_uri": "https://localhost:8080/"
        },
        "id": "cbLFjbXZSw0Q",
        "outputId": "6bdd293d-4e6d-4541-c069-480a84a45fb6"
      },
      "execution_count": null,
      "outputs": [
        {
          "output_type": "stream",
          "name": "stdout",
          "text": [
            "Every 4th character: PosNDWU\n"
          ]
        }
      ]
    },
    {
      "cell_type": "markdown",
      "source": [
        "Section 3.D\n",
        "\n",
        "In this question, the slice [0::4] start s at index 0 and takes every fourth character from the string. This is an example of slicing with a step to obtain regularly spaced characters."
      ],
      "metadata": {
        "id": "H5ZzvG-D_9q0"
      }
    },
    {
      "cell_type": "code",
      "source": [
        "# E. What happens if you try to access secret_message[50]?\n",
        "\n",
        "secret_message = \"PyThoN_Is_FuN_AnD_PoWeRfUl!\"\n",
        "print(secret_message[50])"
      ],
      "metadata": {
        "colab": {
          "base_uri": "https://localhost:8080/",
          "height": 183
        },
        "id": "-MDerlAtSwsH",
        "outputId": "59eb8e88-4d16-4c67-ceac-91d821fa9039"
      },
      "execution_count": null,
      "outputs": [
        {
          "output_type": "error",
          "ename": "IndexError",
          "evalue": "string index out of range",
          "traceback": [
            "\u001b[0;31m---------------------------------------------------------------------------\u001b[0m",
            "\u001b[0;31mIndexError\u001b[0m                                Traceback (most recent call last)",
            "\u001b[0;32m<ipython-input-110-8863fa5b4bee>\u001b[0m in \u001b[0;36m<cell line: 0>\u001b[0;34m()\u001b[0m\n\u001b[1;32m      2\u001b[0m \u001b[0;34m\u001b[0m\u001b[0m\n\u001b[1;32m      3\u001b[0m \u001b[0msecret_message\u001b[0m \u001b[0;34m=\u001b[0m \u001b[0;34m\"PyThoN_Is_FuN_AnD_PoWeRfUl!\"\u001b[0m\u001b[0;34m\u001b[0m\u001b[0;34m\u001b[0m\u001b[0m\n\u001b[0;32m----> 4\u001b[0;31m \u001b[0mprint\u001b[0m\u001b[0;34m(\u001b[0m\u001b[0msecret_message\u001b[0m\u001b[0;34m[\u001b[0m\u001b[0;36m50\u001b[0m\u001b[0;34m]\u001b[0m\u001b[0;34m)\u001b[0m\u001b[0;34m\u001b[0m\u001b[0;34m\u001b[0m\u001b[0m\n\u001b[0m",
            "\u001b[0;31mIndexError\u001b[0m: string index out of range"
          ]
        }
      ]
    },
    {
      "cell_type": "markdown",
      "source": [
        "Section 3.E\n",
        "\n",
        "When I try to access secret_message, I get an IndexError because the string simply isn’t long enough to have a character at position 50. In Python, strings are indexed starting at 0, so the highest valid index is always one less than the length of the string. If I try to access an index that doesn’t exist-like 50 in this case-Python immediately lets me know with an error. This is Python’s way of protecting your program from trying to use data that isn’t there, and it helps you catch mistakes where you might have miscounted the length of your string."
      ],
      "metadata": {
        "id": "y9IvHJGVABPz"
      }
    },
    {
      "cell_type": "markdown",
      "source": [
        "# Section 4: Boolean Values & Expressions ( Predict and Verify )\n"
      ],
      "metadata": {
        "id": "qAOI16a9WDsS"
      }
    },
    {
      "cell_type": "code",
      "source": [
        "''' A. (x == z) and (y > x)'''\n",
        "\n",
        "# Given variable\n",
        "x = 15\n",
        "y = 25\n",
        "z = 15\n",
        "text = 'adventure'\n",
        "\n",
        "part_a = (x == z) and (y > x)\n",
        "print(\"a.\", part_a)"
      ],
      "metadata": {
        "colab": {
          "base_uri": "https://localhost:8080/"
        },
        "id": "smmYmFRJWI1R",
        "outputId": "f2313684-a213-4875-9371-68e0369e1baa"
      },
      "execution_count": null,
      "outputs": [
        {
          "output_type": "stream",
          "name": "stdout",
          "text": [
            "a. True\n"
          ]
        }
      ]
    },
    {
      "cell_type": "markdown",
      "source": [
        "Section 4.A\n",
        "\n",
        "This expression checks if x equals z and if y is greater than x. Since both conditions are True (15 == 15 and 25 > 15), the overall result is True. The and operator only returns True when both sides are True."
      ],
      "metadata": {
        "id": "xLtRa481-2mf"
      }
    },
    {
      "cell_type": "code",
      "source": [
        "''' B. (x != z) or (y < x) or (len(text) < 5)'''\n",
        "text = \"adventure\"\n",
        "\n",
        "part_b = (x != z) or (y < x) or (len(text) < 5)\n",
        "print(\"b.\", part_b)"
      ],
      "metadata": {
        "colab": {
          "base_uri": "https://localhost:8080/"
        },
        "id": "EkVdCJqK7PBN",
        "outputId": "372e3024-3240-402d-b002-d672d6e7ec35"
      },
      "execution_count": null,
      "outputs": [
        {
          "output_type": "stream",
          "name": "stdout",
          "text": [
            "b. False\n"
          ]
        }
      ]
    },
    {
      "cell_type": "markdown",
      "source": [
        "Section 4.B\n",
        "\n",
        "This expression uses the or operator, which returns True if any condition is True. However, all three conditions-x != z, y < x, and len(text) < 5-are False. Since none of the conditions are met, the result is False."
      ],
      "metadata": {
        "id": "DB1yCSoU_Np3"
      }
    },
    {
      "cell_type": "code",
      "source": [
        "''' C. not ((x > y) and (text == \"Adventure\"))'''\n",
        "\n",
        "part_c = not ((x > y) and (text == \"Adventure\"))\n",
        "print(\"c.\", part_c)"
      ],
      "metadata": {
        "colab": {
          "base_uri": "https://localhost:8080/"
        },
        "id": "rRbst9Pt7PeX",
        "outputId": "161d0324-0f48-452f-89e4-18a6df96d51f"
      },
      "execution_count": null,
      "outputs": [
        {
          "output_type": "stream",
          "name": "stdout",
          "text": [
            "c. True\n"
          ]
        }
      ]
    },
    {
      "cell_type": "markdown",
      "source": [
        "Section 4.C\n",
        "\n",
        "Here, the expression inside the parentheses is False because x > y is False and text == \"Adventure\" is also False (due to case sensitivity). The and operator requires both to be True, so it returns False. Applying not to False gives a final result of True."
      ],
      "metadata": {
        "id": "NBSk4R9P-3of"
      }
    },
    {
      "cell_type": "markdown",
      "source": [
        "# Section 5: String Properties & Basic Methods ( User Profile Setup )\n"
      ],
      "metadata": {
        "id": "bPsP_KfQWEfE"
      }
    },
    {
      "cell_type": "code",
      "source": [
        "''' A. Attempt to Modify a String Character '''\n",
        "\n",
        "username = \"MyUser123\"\n",
        "username[0] = 'm'\n",
        "\n",
        "# Output\n",
        "''''str' object does not support item assignment'''"
      ],
      "metadata": {
        "colab": {
          "base_uri": "https://localhost:8080/",
          "height": 219
        },
        "id": "k8ie-EvgWJ-L",
        "outputId": "2b88db20-56af-4027-d709-d9d11f660e28"
      },
      "execution_count": null,
      "outputs": [
        {
          "output_type": "error",
          "ename": "TypeError",
          "evalue": "'str' object does not support item assignment",
          "traceback": [
            "\u001b[0;31m---------------------------------------------------------------------------\u001b[0m",
            "\u001b[0;31mTypeError\u001b[0m                                 Traceback (most recent call last)",
            "\u001b[0;32m<ipython-input-114-7e7ada309f9c>\u001b[0m in \u001b[0;36m<cell line: 0>\u001b[0;34m()\u001b[0m\n\u001b[1;32m      2\u001b[0m \u001b[0;34m\u001b[0m\u001b[0m\n\u001b[1;32m      3\u001b[0m \u001b[0musername\u001b[0m \u001b[0;34m=\u001b[0m \u001b[0;34m\"MyUser123\"\u001b[0m\u001b[0;34m\u001b[0m\u001b[0;34m\u001b[0m\u001b[0m\n\u001b[0;32m----> 4\u001b[0;31m \u001b[0musername\u001b[0m\u001b[0;34m[\u001b[0m\u001b[0;36m0\u001b[0m\u001b[0;34m]\u001b[0m \u001b[0;34m=\u001b[0m \u001b[0;34m'm'\u001b[0m\u001b[0;34m\u001b[0m\u001b[0;34m\u001b[0m\u001b[0m\n\u001b[0m\u001b[1;32m      5\u001b[0m \u001b[0;34m\u001b[0m\u001b[0m\n\u001b[1;32m      6\u001b[0m \u001b[0;31m# Output\u001b[0m\u001b[0;34m\u001b[0m\u001b[0;34m\u001b[0m\u001b[0m\n",
            "\u001b[0;31mTypeError\u001b[0m: 'str' object does not support item assignment"
          ]
        }
      ]
    },
    {
      "cell_type": "markdown",
      "source": [
        "Section 5.A\n",
        "\n",
        "Strings in Python are immutable, meaning their contents cannot be changed after creation. You cannot modify individual characters directly. To change the username, create a new string (e.g., username = 'm' + username[1:])."
      ],
      "metadata": {
        "id": "QpgIckmxGfKr"
      }
    },
    {
      "cell_type": "code",
      "source": [
        "''' B. Quote Transformation '''\n",
        "\n",
        "quote = \" practice makes perfect \"\n",
        "formatted_quote = quote.strip().upper().replace(\"PERFECT\", \"PROGRESS\")\n",
        "print(formatted_quote)"
      ],
      "metadata": {
        "id": "7TEO-3s_HMQI"
      },
      "execution_count": null,
      "outputs": []
    },
    {
      "cell_type": "markdown",
      "source": [
        "Section 5.B\n",
        "\n",
        "Explanation of Methods:\n",
        "\n",
        ".strip(): Removes leading/trailing whitespace.\n",
        "Turns \" practice makes perfect \" → \"practice makes perfect\".\n",
        "\n",
        ".upper(): Converts the string to uppercase.\n",
        "Turns \"practice makes perfect\" → \"PRACTICE MAKES PERFECT\".\n",
        "\n",
        ".replace(\"PERFECT\", \"PROGRESS\"): Replaces \"PERFECT\" with \"PROGRESS\".\n",
        "Final result: \"PRACTICE MAKES PROGRESS\"."
      ],
      "metadata": {
        "id": "lywKqjCzHMr3"
      }
    },
    {
      "cell_type": "code",
      "source": [
        "''' C. String Lengths '''\n",
        "\n",
        "original_length = len(quote)\n",
        "formatted_length = len(formatted_quote)\n",
        "print(\"Original length:\", original_length)\n",
        "print(\"Formatted length:\", formatted_length)\n"
      ],
      "metadata": {
        "colab": {
          "base_uri": "https://localhost:8080/"
        },
        "id": "aK565pp8HMIh",
        "outputId": "39366484-2284-431b-f108-2e2a0d2698ce"
      },
      "execution_count": null,
      "outputs": [
        {
          "output_type": "stream",
          "name": "stdout",
          "text": [
            "Original length: 24\n",
            "Formatted length: 23\n"
          ]
        }
      ]
    },
    {
      "cell_type": "markdown",
      "source": [
        "Section 5.C\n",
        "\n",
        "To find the length of a string in Python, I use the len() function. When I apply len(quote) to the original quote (\" practice makes perfect \"), it returns 24 because it counts every character, including spaces at the beginning and end. After the transformations, len(formatted_quote) returns 23, since the leading and trailing spaces have been removed and the word \"PERFECT\" has been replaced with the longer word \"PROGRESS\". This shows how string methods can change the total number of characters in a string."
      ],
      "metadata": {
        "id": "QADh-eeGHNIz"
      }
    }
  ]
}